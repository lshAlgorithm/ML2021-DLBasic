{
  "nbformat": 4,
  "nbformat_minor": 0,
  "metadata": {
    "colab": {
      "name": "ML2021Spring - HW1.ipynb",
      "provenance": [],
      "toc_visible": true,
      "include_colab_link": true
    },
    "kernelspec": {
      "name": "python3",
      "display_name": "Python 3"
    },
    "accelerator": "GPU"
  },
  "cells": [
    {
      "cell_type": "markdown",
      "metadata": {
        "id": "view-in-github",
        "colab_type": "text"
      },
      "source": [
        "<a href=\"https://colab.research.google.com/github/lshAlgorithm/ML2021-DLBasic/blob/main/HW01/HW01.ipynb\" target=\"_parent\"><img src=\"https://colab.research.google.com/assets/colab-badge.svg\" alt=\"Open In Colab\"/></a>"
      ]
    },
    {
      "cell_type": "markdown",
      "metadata": {
        "id": "mz0_QVkxCrX3"
      },
      "source": [
        "# **Homework 1: COVID-19 Cases Prediction (Regression)**"
      ]
    },
    {
      "cell_type": "markdown",
      "metadata": {
        "id": "ZeZnPAiwDRWG"
      },
      "source": [
        "Author: Heng-Jui Chang\n",
        "\n",
        "Slides: https://github.com/ga642381/ML2021-Spring/blob/main/HW01/HW01.pdf  \n",
        "Videos (Mandarin): https://cool.ntu.edu.tw/courses/4793/modules/items/172854  \n",
        "https://cool.ntu.edu.tw/courses/4793/modules/items/172853  \n",
        "Video (English): https://cool.ntu.edu.tw/courses/4793/modules/items/176529\n",
        "\n",
        "\n",
        "Objectives:\n",
        "* Solve a regression problem with deep neural networks (DNN).\n",
        "* Understand basic DNN training tips.\n",
        "* Get familiar with PyTorch.\n",
        "\n",
        "If any questions, please contact the TAs via TA hours, NTU COOL, or email.\n"
      ]
    },
    {
      "cell_type": "markdown",
      "metadata": {
        "id": "Jx3x1nDkG-Uy"
      },
      "source": [
        "# **Download Data**\n",
        "\n",
        "\n",
        "If the Google drive links are dead, you can download data from [kaggle](https://www.kaggle.com/c/ml2021spring-hw1/data), and upload data manually to the workspace."
      ]
    },
    {
      "cell_type": "code",
      "metadata": {
        "colab": {
          "base_uri": "https://localhost:8080/"
        },
        "id": "tMj55YDKG6ch",
        "outputId": "77bd2382-aaa2-4631-c49b-deaeaa090da2"
      },
      "source": [
        "tr_path = 'covid.train.csv'  # path to training data\n",
        "tt_path = 'covid.test.csv'   # path to testing data\n",
        "\n",
        "!gdown --id '19CCyCgJrUxtvgZF53vnctJiOJ23T5mqF' --output covid.train.csv\n",
        "!gdown --id '1CE240jLm2npU-tdz81-oVKEF3T2yfT1O' --output covid.test.csv"
      ],
      "execution_count": 1,
      "outputs": [
        {
          "output_type": "stream",
          "name": "stdout",
          "text": [
            "/usr/local/lib/python3.11/dist-packages/gdown/__main__.py:140: FutureWarning: Option `--id` was deprecated in version 4.3.1 and will be removed in 5.0. You don't need to pass it anymore to use a file ID.\n",
            "  warnings.warn(\n",
            "Downloading...\n",
            "From: https://drive.google.com/uc?id=19CCyCgJrUxtvgZF53vnctJiOJ23T5mqF\n",
            "To: /content/covid.train.csv\n",
            "100% 2.00M/2.00M [00:00<00:00, 114MB/s]\n",
            "/usr/local/lib/python3.11/dist-packages/gdown/__main__.py:140: FutureWarning: Option `--id` was deprecated in version 4.3.1 and will be removed in 5.0. You don't need to pass it anymore to use a file ID.\n",
            "  warnings.warn(\n",
            "Downloading...\n",
            "From: https://drive.google.com/uc?id=1CE240jLm2npU-tdz81-oVKEF3T2yfT1O\n",
            "To: /content/covid.test.csv\n",
            "100% 651k/651k [00:00<00:00, 49.7MB/s]\n"
          ]
        }
      ]
    },
    {
      "cell_type": "markdown",
      "metadata": {
        "id": "wS_4-77xHk44"
      },
      "source": [
        "# **Import Some Packages**"
      ]
    },
    {
      "cell_type": "code",
      "metadata": {
        "id": "k-onQd4JNA5H"
      },
      "source": [
        "# PyTorch\n",
        "import torch\n",
        "import torch.nn as nn\n",
        "from torch.utils.data import Dataset, DataLoader\n",
        "\n",
        "# For data preprocess\n",
        "import numpy as np\n",
        "import csv\n",
        "import os\n",
        "\n",
        "# For plotting\n",
        "import matplotlib.pyplot as plt\n",
        "from matplotlib.pyplot import figure\n",
        "\n",
        "myseed = 42069  # set a random seed for reproducibility\n",
        "torch.backends.cudnn.deterministic = True\n",
        "torch.backends.cudnn.benchmark = False\n",
        "np.random.seed(myseed)\n",
        "torch.manual_seed(myseed)\n",
        "if torch.cuda.is_available():\n",
        "    torch.cuda.manual_seed_all(myseed)"
      ],
      "execution_count": 2,
      "outputs": []
    },
    {
      "cell_type": "markdown",
      "metadata": {
        "id": "BtE3b6JEH7rw"
      },
      "source": [
        "# **Some Utilities**\n",
        "\n",
        "You do not need to modify this part."
      ]
    },
    {
      "cell_type": "code",
      "metadata": {
        "id": "FWMT3uf1NGQp"
      },
      "source": [
        "def get_device():\n",
        "    ''' Get device (if GPU is available, use GPU) '''\n",
        "    return 'cuda' if torch.cuda.is_available() else 'cpu'\n",
        "\n",
        "def plot_learning_curve(loss_record, title=''):\n",
        "    ''' Plot learning curve of your DNN (train & dev loss) '''\n",
        "    total_steps = len(loss_record['train'])\n",
        "    x_1 = range(total_steps)\n",
        "    x_2 = x_1[::len(loss_record['train']) // len(loss_record['dev'])]\n",
        "    figure(figsize=(6, 4))\n",
        "    plt.plot(x_1, loss_record['train'], c='tab:red', label='train')\n",
        "    plt.plot(x_2, loss_record['dev'], c='tab:cyan', label='dev')\n",
        "    plt.ylim(0.0, 5.)\n",
        "    plt.xlabel('Training steps')\n",
        "    plt.ylabel('MSE loss')\n",
        "    plt.title('Learning curve of {}'.format(title))\n",
        "    plt.legend()\n",
        "    plt.show()\n",
        "\n",
        "\n",
        "def plot_pred(dv_set, model, device, lim=35., preds=None, targets=None):\n",
        "    ''' Plot prediction of your DNN '''\n",
        "    if preds is None or targets is None:\n",
        "        model.eval()\n",
        "        preds, targets = [], []\n",
        "        for x, y in dv_set:\n",
        "            x, y = x.to(device), y.to(device)\n",
        "            with torch.no_grad():\n",
        "                pred = model(x)\n",
        "                preds.append(pred.detach().cpu())\n",
        "                targets.append(y.detach().cpu())\n",
        "        preds = torch.cat(preds, dim=0).numpy()\n",
        "        targets = torch.cat(targets, dim=0).numpy()\n",
        "\n",
        "    figure(figsize=(5, 5))\n",
        "    plt.scatter(targets, preds, c='r', alpha=0.5)\n",
        "    plt.plot([-0.2, lim], [-0.2, lim], c='b')\n",
        "    plt.xlim(-0.2, lim)\n",
        "    plt.ylim(-0.2, lim)\n",
        "    plt.xlabel('ground truth value')\n",
        "    plt.ylabel('predicted value')\n",
        "    plt.title('Ground Truth v.s. Prediction')\n",
        "    plt.show()"
      ],
      "execution_count": 3,
      "outputs": []
    },
    {
      "cell_type": "markdown",
      "metadata": {
        "id": "39U_XFX6KOoj"
      },
      "source": [
        "# **Preprocess**\n",
        "\n",
        "We have three kinds of datasets:\n",
        "* `train`: for training\n",
        "* `dev`: for validation\n",
        "* `test`: for testing (w/o target value)"
      ]
    },
    {
      "cell_type": "markdown",
      "metadata": {
        "id": "TQ-MdwpLL7Dt"
      },
      "source": [
        "## **Dataset**\n",
        "\n",
        "The `COVID19Dataset` below does:\n",
        "* read `.csv` files\n",
        "* extract features\n",
        "* split `covid.train.csv` into train/dev sets\n",
        "* normalize features\n",
        "\n",
        "Finishing `TODO` below might make you pass medium baseline."
      ]
    },
    {
      "cell_type": "code",
      "metadata": {
        "id": "0zlpIp9ANJRU"
      },
      "source": [
        "class COVID19Dataset(Dataset):\n",
        "    ''' Dataset for loading and preprocessing the COVID19 dataset '''\n",
        "    def __init__(self,\n",
        "                 path,\n",
        "                 mode='train',\n",
        "                 target_only=False):\n",
        "        self.mode = mode\n",
        "\n",
        "        # Read data into numpy arrays\n",
        "        with open(path, 'r') as fp:\n",
        "            data = list(csv.reader(fp))\n",
        "            data = np.array(data[1:])[:, 1:].astype(float)\n",
        "\n",
        "        if not target_only:\n",
        "            feats = list(range(93))\n",
        "        else:\n",
        "            # TODO: Using 40 states & 2 tested_positive features (indices = 57 & 75)\n",
        "            feats = [57, 75] + list(range(40))\n",
        "\n",
        "        if mode == 'test':\n",
        "            # Testing data\n",
        "            # data: 893 x 93 (40 states + day 1 (18) + day 2 (18) + day 3 (17))\n",
        "            data = data[:, feats]\n",
        "            self.data = torch.FloatTensor(data)\n",
        "        else:\n",
        "            # Training data (train/dev sets)\n",
        "            # data: 2700 x 94 (40 states + day 1 (18) + day 2 (18) + day 3 (18))\n",
        "            target = data[:, -1]\n",
        "            data = data[:, feats]\n",
        "\n",
        "            # Splitting training data into train & dev sets\n",
        "            if mode == 'train':\n",
        "                indices = [i for i in range(len(data)) if i % 10 != 0]\n",
        "            elif mode == 'dev':\n",
        "                indices = [i for i in range(len(data)) if i % 10 == 0]\n",
        "\n",
        "            # Convert data into PyTorch tensors\n",
        "            self.data = torch.FloatTensor(data[indices])\n",
        "            self.target = torch.FloatTensor(target[indices])\n",
        "\n",
        "        # Normalize features (you may remove this part to see what will happen)\n",
        "        self.data[:, 40:] = \\\n",
        "            (self.data[:, 40:] - self.data[:, 40:].mean(dim=0, keepdim=True)) \\\n",
        "            / self.data[:, 40:].std(dim=0, keepdim=True)\n",
        "\n",
        "        self.dim = self.data.shape[1]\n",
        "\n",
        "        print('Finished reading the {} set of COVID19 Dataset ({} samples found, each dim = {})'\n",
        "              .format(mode, len(self.data), self.dim))\n",
        "\n",
        "    def __getitem__(self, index):\n",
        "        # Returns one sample at a time\n",
        "        if self.mode in ['train', 'dev']:\n",
        "            # For training\n",
        "            return self.data[index], self.target[index]\n",
        "        else:\n",
        "            # For testing (no target)\n",
        "            return self.data[index]\n",
        "\n",
        "    def __len__(self):\n",
        "        # Returns the size of the dataset\n",
        "        return len(self.data)"
      ],
      "execution_count": 4,
      "outputs": []
    },
    {
      "cell_type": "markdown",
      "metadata": {
        "id": "AlhTlkE7MDo3"
      },
      "source": [
        "## **DataLoader**\n",
        "\n",
        "A `DataLoader` loads data from a given `Dataset` into batches.\n"
      ]
    },
    {
      "cell_type": "code",
      "metadata": {
        "id": "hlhLk5t6MBX3"
      },
      "source": [
        "def prep_dataloader(path, mode, batch_size, n_jobs=0, target_only=False):\n",
        "    ''' Generates a dataset, then is put into a dataloader. '''\n",
        "    dataset = COVID19Dataset(path, mode=mode, target_only=target_only)  # Construct dataset\n",
        "    dataloader = DataLoader(\n",
        "        dataset, batch_size,\n",
        "        shuffle=(mode == 'train'), drop_last=False,\n",
        "        num_workers=n_jobs, pin_memory=True)                            # Construct dataloader\n",
        "    return dataloader"
      ],
      "execution_count": 5,
      "outputs": []
    },
    {
      "cell_type": "markdown",
      "metadata": {
        "id": "SGuycwR0MeQB"
      },
      "source": [
        "# **Deep Neural Network**\n",
        "\n",
        "`NeuralNet` is an `nn.Module` designed for regression.\n",
        "The DNN consists of 2 fully-connected layers with ReLU activation.\n",
        "This module also included a function `cal_loss` for calculating loss.\n"
      ]
    },
    {
      "cell_type": "code",
      "metadata": {
        "id": "49-uXYovOAI0"
      },
      "source": [
        "class NeuralNet(nn.Module):\n",
        "    ''' A simple fully-connected deep neural network '''\n",
        "    def __init__(self, input_dim):\n",
        "        super(NeuralNet, self).__init__()\n",
        "\n",
        "        # Define your neural network here\n",
        "        # TODO: How to modify this model to achieve better performance?\n",
        "        self.net = nn.Sequential(\n",
        "            nn.Linear(input_dim, 64),\n",
        "            nn.ReLU(),\n",
        "            nn.Linear(64, 1)\n",
        "        )\n",
        "\n",
        "        # Mean squared error loss\n",
        "        self.criterion = nn.MSELoss(reduction='mean')\n",
        "\n",
        "    def forward(self, x):\n",
        "        ''' Given input of size (batch_size x input_dim), compute output of the network '''\n",
        "        return self.net(x).squeeze(1)\n",
        "\n",
        "    def cal_loss(self, pred, target):\n",
        "        ''' Calculate los        alpha = 0.001\n",
        "        eps = 1e-6\n",
        "        l2_reg = torch.tensor(0., requires_grad=True)\n",
        "\n",
        "        for param in self.net.parameters():\n",
        "            if param.requires_grad:\n",
        "                l2_reg += torch.norm(param, p=2) ** 2\n",
        "        return torch.sqrt(self.criterion(pred, target) + eps) + l2_regs '''\n",
        "        # TODO: you may implement L1/L2 regularization here\n",
        "        alpha = 0.001\n",
        "        eps = 1e-6\n",
        "        l2_reg = torch.tensor(0., requires_grad=True)\n",
        "\n",
        "        for param in self.net.parameters():\n",
        "            if param.requires_grad:\n",
        "                l2_reg = l2_reg + torch.norm(param, p=2) ** 2\n",
        "        return torch.sqrt(self.criterion(pred, target) + eps) + alpha * l2_reg"
      ],
      "execution_count": 36,
      "outputs": []
    },
    {
      "cell_type": "markdown",
      "metadata": {
        "id": "DvFWVjZ5Nvga"
      },
      "source": [
        "# **Train/Dev/Test**"
      ]
    },
    {
      "cell_type": "markdown",
      "metadata": {
        "id": "MAM8QecJOyqn"
      },
      "source": [
        "## **Training**"
      ]
    },
    {
      "cell_type": "code",
      "metadata": {
        "id": "lOqcmYzMO7jB"
      },
      "source": [
        "def train(tr_set, dv_set, model, config, device):\n",
        "    ''' DNN training '''\n",
        "\n",
        "    n_epochs = config['n_epochs']  # Maximum number of epochs\n",
        "\n",
        "    # Setup optimizer\n",
        "    optimizer = getattr(torch.optim, config['optimizer'])(\n",
        "        model.parameters(), **config['optim_hparas'])\n",
        "\n",
        "    min_mse = 1000.\n",
        "    loss_record = {'train': [], 'dev': []}      # for recording training loss\n",
        "    early_stop_cnt = 0\n",
        "    epoch = 0\n",
        "    while epoch < n_epochs:\n",
        "        model.train()                           # set model to training mode\n",
        "        for x, y in tr_set:                     # iterate through the dataloader\n",
        "            optimizer.zero_grad()               # set gradient to zero\n",
        "            x, y = x.to(device), y.to(device)   # move data to device (cpu/cuda)\n",
        "            pred = model(x)                     # forward pass (compute output)\n",
        "            mse_loss = model.cal_loss(pred, y)  # compute loss\n",
        "            mse_loss.backward()                 # compute gradient (backpropagation)\n",
        "            optimizer.step()                    # update model with optimizer\n",
        "            loss_record['train'].append(mse_loss.detach().cpu().item())\n",
        "\n",
        "        # After each epoch, test your model on the validation (development) set.\n",
        "        dev_mse = dev(dv_set, model, device)\n",
        "        if dev_mse < min_mse:\n",
        "            # Save model if your model improved\n",
        "            min_mse = dev_mse\n",
        "            print('Saving model (epoch = {:4d}, loss = {:.4f})'\n",
        "                .format(epoch + 1, min_mse))\n",
        "            torch.save(model.state_dict(), config['save_path'])  # Save model to specified path\n",
        "            early_stop_cnt = 0\n",
        "        else:\n",
        "            early_stop_cnt += 1\n",
        "\n",
        "        epoch += 1\n",
        "        loss_record['dev'].append(dev_mse)\n",
        "        if early_stop_cnt > config['early_stop']:\n",
        "            # Stop training if your model stops improving for \"config['early_stop']\" epochs.\n",
        "            break\n",
        "\n",
        "    print('Finished training after {} epochs'.format(epoch))\n",
        "    return min_mse, loss_record"
      ],
      "execution_count": 37,
      "outputs": []
    },
    {
      "cell_type": "markdown",
      "metadata": {
        "id": "0hSd4Bn3O2PL"
      },
      "source": [
        "## **Validation**"
      ]
    },
    {
      "cell_type": "code",
      "metadata": {
        "id": "yrxrD3YsN3U2"
      },
      "source": [
        "def dev(dv_set, model, device):\n",
        "    model.eval()                                # set model to evalutation mode\n",
        "    total_loss = 0\n",
        "    for x, y in dv_set:                         # iterate through the dataloader\n",
        "        x, y = x.to(device), y.to(device)       # move data to device (cpu/cuda)\n",
        "        with torch.no_grad():                   # disable gradient calculation\n",
        "            pred = model(x)                     # forward pass (compute output)\n",
        "            mse_loss = model.cal_loss(pred, y)  # compute loss\n",
        "        total_loss += mse_loss.detach().cpu().item() * len(x)  # accumulate loss\n",
        "    total_loss = total_loss / len(dv_set.dataset)              # compute averaged loss\n",
        "\n",
        "    return total_loss"
      ],
      "execution_count": 38,
      "outputs": []
    },
    {
      "cell_type": "markdown",
      "metadata": {
        "id": "g0pdrhQAO41L"
      },
      "source": [
        "## **Testing**"
      ]
    },
    {
      "cell_type": "code",
      "metadata": {
        "id": "aSBMRFlYN5tB"
      },
      "source": [
        "def test(tt_set, model, device):\n",
        "    model.eval()                                # set model to evalutation mode\n",
        "    preds = []\n",
        "    for x in tt_set:                            # iterate through the dataloader\n",
        "        x = x.to(device)                        # move data to device (cpu/cuda)\n",
        "        with torch.no_grad():                   # disable gradient calculation\n",
        "            pred = model(x)                     # forward pass (compute output)\n",
        "            preds.append(pred.detach().cpu())   # collect prediction\n",
        "    preds = torch.cat(preds, dim=0).numpy()     # concatenate all predictions and convert to a numpy array\n",
        "    return preds"
      ],
      "execution_count": 39,
      "outputs": []
    },
    {
      "cell_type": "markdown",
      "metadata": {
        "id": "SvckkF5dvf0j"
      },
      "source": [
        "# **Setup Hyper-parameters**\n",
        "\n",
        "`config` contains hyper-parameters for training and the path to save your model."
      ]
    },
    {
      "cell_type": "code",
      "metadata": {
        "id": "NPXpdumwPjE7"
      },
      "source": [
        "device = get_device()                 # get the current available device ('cpu' or 'cuda')\n",
        "os.makedirs('models', exist_ok=True)  # The trained model will be saved to ./models/\n",
        "target_only = False                   # TODO: Using 40 states & 2 tested_positive features\n",
        "\n",
        "# TODO: How to tune these hyper-parameters to improve your model's performance?\n",
        "config = {\n",
        "    'n_epochs': 3000,                # maximum number of epochs\n",
        "    'batch_size': 270,               # mini-batch size for dataloader\n",
        "    'optimizer': 'SGD',              # optimization algorithm (optimizer in torch.optim)\n",
        "    'optim_hparas': {                # hyper-parameters for the optimizer (depends on which optimizer you are using)\n",
        "        'lr': 0.001,                 # learning rate of SGD\n",
        "        'momentum': 0.9              # momentum for SGD\n",
        "    },\n",
        "    'early_stop': 200,               # early stopping epochs (the number epochs since your model's last improvement)\n",
        "    'save_path': 'models/model.pth'  # your model will be saved here\n",
        "}"
      ],
      "execution_count": 40,
      "outputs": []
    },
    {
      "cell_type": "markdown",
      "metadata": {
        "id": "6j1eOV3TOH-j"
      },
      "source": [
        "# **Load data and model**"
      ]
    },
    {
      "cell_type": "code",
      "metadata": {
        "colab": {
          "base_uri": "https://localhost:8080/"
        },
        "id": "eNrYBMmePLKm",
        "outputId": "53617c0a-7db7-4885-a155-62decc3eb902"
      },
      "source": [
        "tr_set = prep_dataloader(tr_path, 'train', config['batch_size'], target_only=target_only)\n",
        "dv_set = prep_dataloader(tr_path, 'dev', config['batch_size'], target_only=target_only)\n",
        "tt_set = prep_dataloader(tt_path, 'test', config['batch_size'], target_only=target_only)"
      ],
      "execution_count": 26,
      "outputs": [
        {
          "output_type": "stream",
          "name": "stdout",
          "text": [
            "Finished reading the train set of COVID19 Dataset (2430 samples found, each dim = 93)\n",
            "Finished reading the dev set of COVID19 Dataset (270 samples found, each dim = 93)\n",
            "Finished reading the test set of COVID19 Dataset (893 samples found, each dim = 93)\n"
          ]
        }
      ]
    },
    {
      "cell_type": "code",
      "metadata": {
        "id": "FHylSirLP9oh"
      },
      "source": [
        "model = NeuralNet(tr_set.dataset.dim).to(device)  # Construct model and move to device"
      ],
      "execution_count": 41,
      "outputs": []
    },
    {
      "cell_type": "markdown",
      "metadata": {
        "id": "sX2B_zgSOPTJ"
      },
      "source": [
        "# **Start Training!**"
      ]
    },
    {
      "cell_type": "code",
      "metadata": {
        "colab": {
          "base_uri": "https://localhost:8080/"
        },
        "id": "GrEbUxazQAAZ",
        "outputId": "1b0cf20b-b5b9-4fb1-f4cf-538c078a9cb4"
      },
      "source": [
        "model_loss, model_loss_record = train(tr_set, dv_set, model, config, device)"
      ],
      "execution_count": 42,
      "outputs": [
        {
          "output_type": "stream",
          "name": "stdout",
          "text": [
            "Saving model (epoch =    1, loss = 18.1737)\n",
            "Saving model (epoch =    2, loss = 17.9187)\n",
            "Saving model (epoch =    3, loss = 17.6116)\n",
            "Saving model (epoch =    4, loss = 17.2588)\n",
            "Saving model (epoch =    5, loss = 16.8382)\n",
            "Saving model (epoch =    6, loss = 16.3094)\n",
            "Saving model (epoch =    7, loss = 15.6253)\n",
            "Saving model (epoch =    8, loss = 14.7260)\n",
            "Saving model (epoch =    9, loss = 13.5313)\n",
            "Saving model (epoch =   10, loss = 12.0099)\n",
            "Saving model (epoch =   11, loss = 10.2397)\n",
            "Saving model (epoch =   12, loss = 8.5498)\n",
            "Saving model (epoch =   13, loss = 7.4153)\n",
            "Saving model (epoch =   14, loss = 6.6753)\n",
            "Saving model (epoch =   15, loss = 5.8779)\n",
            "Saving model (epoch =   16, loss = 5.3090)\n",
            "Saving model (epoch =   17, loss = 5.0746)\n",
            "Saving model (epoch =   18, loss = 4.9288)\n",
            "Saving model (epoch =   19, loss = 4.7859)\n",
            "Saving model (epoch =   20, loss = 4.6590)\n",
            "Saving model (epoch =   21, loss = 4.5397)\n",
            "Saving model (epoch =   22, loss = 4.4299)\n",
            "Saving model (epoch =   23, loss = 4.3254)\n",
            "Saving model (epoch =   24, loss = 4.2251)\n",
            "Saving model (epoch =   25, loss = 4.1252)\n",
            "Saving model (epoch =   26, loss = 4.0269)\n",
            "Saving model (epoch =   27, loss = 3.9322)\n",
            "Saving model (epoch =   28, loss = 3.8381)\n",
            "Saving model (epoch =   29, loss = 3.7429)\n",
            "Saving model (epoch =   30, loss = 3.6497)\n",
            "Saving model (epoch =   31, loss = 3.5554)\n",
            "Saving model (epoch =   32, loss = 3.4641)\n",
            "Saving model (epoch =   33, loss = 3.3740)\n",
            "Saving model (epoch =   34, loss = 3.2849)\n",
            "Saving model (epoch =   35, loss = 3.2001)\n",
            "Saving model (epoch =   36, loss = 3.1152)\n",
            "Saving model (epoch =   37, loss = 3.0335)\n",
            "Saving model (epoch =   38, loss = 2.9522)\n",
            "Saving model (epoch =   39, loss = 2.8741)\n",
            "Saving model (epoch =   40, loss = 2.8015)\n",
            "Saving model (epoch =   41, loss = 2.7289)\n",
            "Saving model (epoch =   42, loss = 2.6597)\n",
            "Saving model (epoch =   43, loss = 2.5915)\n",
            "Saving model (epoch =   44, loss = 2.5282)\n",
            "Saving model (epoch =   45, loss = 2.4682)\n",
            "Saving model (epoch =   46, loss = 2.4102)\n",
            "Saving model (epoch =   47, loss = 2.3503)\n",
            "Saving model (epoch =   48, loss = 2.2971)\n",
            "Saving model (epoch =   49, loss = 2.2466)\n",
            "Saving model (epoch =   50, loss = 2.1943)\n",
            "Saving model (epoch =   51, loss = 2.1465)\n",
            "Saving model (epoch =   52, loss = 2.0994)\n",
            "Saving model (epoch =   53, loss = 2.0520)\n",
            "Saving model (epoch =   54, loss = 2.0059)\n",
            "Saving model (epoch =   55, loss = 1.9642)\n",
            "Saving model (epoch =   56, loss = 1.9197)\n",
            "Saving model (epoch =   57, loss = 1.8779)\n",
            "Saving model (epoch =   58, loss = 1.8393)\n",
            "Saving model (epoch =   59, loss = 1.8011)\n",
            "Saving model (epoch =   60, loss = 1.7654)\n",
            "Saving model (epoch =   61, loss = 1.7281)\n",
            "Saving model (epoch =   62, loss = 1.6993)\n",
            "Saving model (epoch =   63, loss = 1.6695)\n",
            "Saving model (epoch =   64, loss = 1.6441)\n",
            "Saving model (epoch =   65, loss = 1.6195)\n",
            "Saving model (epoch =   66, loss = 1.5963)\n",
            "Saving model (epoch =   67, loss = 1.5717)\n",
            "Saving model (epoch =   68, loss = 1.5528)\n",
            "Saving model (epoch =   69, loss = 1.5266)\n",
            "Saving model (epoch =   70, loss = 1.5072)\n",
            "Saving model (epoch =   71, loss = 1.4863)\n",
            "Saving model (epoch =   72, loss = 1.4656)\n",
            "Saving model (epoch =   73, loss = 1.4518)\n",
            "Saving model (epoch =   74, loss = 1.4318)\n",
            "Saving model (epoch =   75, loss = 1.4114)\n",
            "Saving model (epoch =   76, loss = 1.4006)\n",
            "Saving model (epoch =   77, loss = 1.3828)\n",
            "Saving model (epoch =   78, loss = 1.3705)\n",
            "Saving model (epoch =   79, loss = 1.3591)\n",
            "Saving model (epoch =   80, loss = 1.3439)\n",
            "Saving model (epoch =   81, loss = 1.3305)\n",
            "Saving model (epoch =   82, loss = 1.3203)\n",
            "Saving model (epoch =   83, loss = 1.3114)\n",
            "Saving model (epoch =   84, loss = 1.2996)\n",
            "Saving model (epoch =   85, loss = 1.2880)\n",
            "Saving model (epoch =   86, loss = 1.2743)\n",
            "Saving model (epoch =   87, loss = 1.2700)\n",
            "Saving model (epoch =   88, loss = 1.2582)\n",
            "Saving model (epoch =   89, loss = 1.2503)\n",
            "Saving model (epoch =   90, loss = 1.2378)\n",
            "Saving model (epoch =   91, loss = 1.2321)\n",
            "Saving model (epoch =   92, loss = 1.2252)\n",
            "Saving model (epoch =   93, loss = 1.2136)\n",
            "Saving model (epoch =   94, loss = 1.2124)\n",
            "Saving model (epoch =   95, loss = 1.1975)\n",
            "Saving model (epoch =   97, loss = 1.1868)\n",
            "Saving model (epoch =   98, loss = 1.1789)\n",
            "Saving model (epoch =   99, loss = 1.1786)\n",
            "Saving model (epoch =  100, loss = 1.1709)\n",
            "Saving model (epoch =  101, loss = 1.1695)\n",
            "Saving model (epoch =  102, loss = 1.1580)\n",
            "Saving model (epoch =  104, loss = 1.1515)\n",
            "Saving model (epoch =  106, loss = 1.1419)\n",
            "Saving model (epoch =  108, loss = 1.1379)\n",
            "Saving model (epoch =  109, loss = 1.1345)\n",
            "Saving model (epoch =  110, loss = 1.1326)\n",
            "Saving model (epoch =  111, loss = 1.1282)\n",
            "Saving model (epoch =  112, loss = 1.1205)\n",
            "Saving model (epoch =  113, loss = 1.1163)\n",
            "Saving model (epoch =  115, loss = 1.1153)\n",
            "Saving model (epoch =  116, loss = 1.1085)\n",
            "Saving model (epoch =  118, loss = 1.1009)\n",
            "Saving model (epoch =  120, loss = 1.1000)\n",
            "Saving model (epoch =  122, loss = 1.0934)\n",
            "Saving model (epoch =  123, loss = 1.0926)\n",
            "Saving model (epoch =  125, loss = 1.0870)\n",
            "Saving model (epoch =  127, loss = 1.0819)\n",
            "Saving model (epoch =  128, loss = 1.0807)\n",
            "Saving model (epoch =  129, loss = 1.0748)\n",
            "Saving model (epoch =  131, loss = 1.0695)\n",
            "Saving model (epoch =  132, loss = 1.0682)\n",
            "Saving model (epoch =  134, loss = 1.0633)\n",
            "Saving model (epoch =  137, loss = 1.0557)\n",
            "Saving model (epoch =  141, loss = 1.0525)\n",
            "Saving model (epoch =  142, loss = 1.0510)\n",
            "Saving model (epoch =  144, loss = 1.0417)\n",
            "Saving model (epoch =  145, loss = 1.0404)\n",
            "Saving model (epoch =  150, loss = 1.0281)\n",
            "Saving model (epoch =  153, loss = 1.0266)\n",
            "Saving model (epoch =  158, loss = 1.0193)\n",
            "Saving model (epoch =  160, loss = 1.0173)\n",
            "Saving model (epoch =  165, loss = 1.0154)\n",
            "Saving model (epoch =  166, loss = 1.0102)\n",
            "Saving model (epoch =  172, loss = 1.0027)\n",
            "Saving model (epoch =  180, loss = 0.9997)\n",
            "Saving model (epoch =  188, loss = 0.9913)\n",
            "Saving model (epoch =  192, loss = 0.9901)\n",
            "Saving model (epoch =  198, loss = 0.9878)\n",
            "Saving model (epoch =  205, loss = 0.9841)\n",
            "Saving model (epoch =  206, loss = 0.9841)\n",
            "Saving model (epoch =  210, loss = 0.9833)\n",
            "Saving model (epoch =  216, loss = 0.9817)\n",
            "Saving model (epoch =  218, loss = 0.9799)\n",
            "Saving model (epoch =  225, loss = 0.9768)\n",
            "Saving model (epoch =  231, loss = 0.9759)\n",
            "Saving model (epoch =  238, loss = 0.9720)\n",
            "Saving model (epoch =  251, loss = 0.9706)\n",
            "Saving model (epoch =  252, loss = 0.9655)\n",
            "Saving model (epoch =  264, loss = 0.9619)\n",
            "Saving model (epoch =  289, loss = 0.9614)\n",
            "Saving model (epoch =  293, loss = 0.9564)\n",
            "Saving model (epoch =  311, loss = 0.9563)\n",
            "Saving model (epoch =  327, loss = 0.9556)\n",
            "Saving model (epoch =  328, loss = 0.9551)\n",
            "Saving model (epoch =  330, loss = 0.9543)\n",
            "Saving model (epoch =  348, loss = 0.9526)\n",
            "Saving model (epoch =  356, loss = 0.9524)\n",
            "Saving model (epoch =  370, loss = 0.9491)\n",
            "Saving model (epoch =  373, loss = 0.9481)\n",
            "Saving model (epoch =  389, loss = 0.9479)\n",
            "Saving model (epoch =  396, loss = 0.9469)\n",
            "Saving model (epoch =  425, loss = 0.9450)\n",
            "Saving model (epoch =  433, loss = 0.9424)\n",
            "Saving model (epoch =  446, loss = 0.9419)\n",
            "Saving model (epoch =  472, loss = 0.9416)\n",
            "Saving model (epoch =  493, loss = 0.9382)\n",
            "Saving model (epoch =  509, loss = 0.9373)\n",
            "Saving model (epoch =  528, loss = 0.9368)\n",
            "Saving model (epoch =  590, loss = 0.9341)\n",
            "Saving model (epoch =  642, loss = 0.9327)\n",
            "Saving model (epoch =  703, loss = 0.9321)\n",
            "Saving model (epoch =  706, loss = 0.9312)\n",
            "Saving model (epoch =  757, loss = 0.9296)\n",
            "Finished training after 958 epochs\n"
          ]
        }
      ]
    },
    {
      "cell_type": "code",
      "source": [
        "print(model_loss_record['dev'])"
      ],
      "metadata": {
        "colab": {
          "base_uri": "https://localhost:8080/"
        },
        "id": "Nl6ba-1MlLi4",
        "outputId": "784e2535-f190-411e-a046-e8def7772cb0"
      },
      "execution_count": 33,
      "outputs": [
        {
          "output_type": "stream",
          "name": "stdout",
          "text": [
            "[36.71333312988281, 31.804561614990234, 27.401805877685547, 24.122268676757812, 21.87542724609375, 20.399465560913086, 19.450523376464844, 18.847219467163086, 18.465444564819336, 18.223268508911133, 18.06869125366211, 17.968902587890625, 17.90297508239746, 17.857799530029297, 17.825294494628906, 17.800642013549805, 17.780261993408203, 17.762020111083984, 17.74473762512207, 17.727737426757812, 17.710735321044922, 17.694049835205078, 17.67489242553711, 17.655824661254883, 17.635406494140625, 17.613475799560547, 17.590295791625977, 17.567373275756836, 17.54233169555664, 17.517122268676758, 17.49074935913086, 17.464757919311523, 17.438602447509766, 17.411178588867188, 17.385160446166992, 17.359298706054688, 17.335254669189453, 17.311492919921875, 17.289587020874023, 17.267372131347656, 17.25075340270996, 17.234214782714844, 17.220447540283203, 17.207937240600586, 17.198850631713867, 17.190641403198242, 17.184412002563477, 17.17896270751953, 17.175323486328125, 17.172760009765625, 17.17043685913086, 17.16905403137207, 17.168092727661133, 17.167160034179688, 17.166519165039062, 17.166173934936523, 17.165985107421875, 17.165735244750977, 17.165645599365234, 17.165586471557617, 17.1655330657959, 17.165565490722656, 17.16559600830078, 17.165536880493164, 17.16553497314453, 17.16554832458496, 17.165550231933594, 17.165557861328125, 17.16549301147461, 17.16547393798828, 17.165407180786133, 17.165386199951172, 17.165401458740234, 17.165363311767578, 17.165407180786133, 17.16535186767578, 17.165359497070312, 17.165353775024414, 17.165340423583984, 17.165353775024414, 17.165363311767578, 17.165283203125, 17.165283203125, 17.165313720703125, 17.165294647216797, 17.165374755859375, 17.165298461914062, 17.165313720703125, 17.16530418395996, 17.1652774810791, 17.165283203125, 17.165225982666016, 17.16518211364746, 17.165264129638672, 17.165287017822266, 17.16521453857422, 17.165306091308594, 17.165327072143555, 17.165313720703125, 17.1652774810791, 17.165294647216797, 17.165292739868164, 17.165287017822266, 17.165210723876953, 17.165285110473633, 17.1652889251709, 17.165376663208008, 17.1652889251709, 17.16529083251953, 17.16533088684082, 17.16529083251953, 17.165176391601562, 17.165199279785156, 17.16524314880371, 17.165197372436523, 17.165225982666016, 17.16520881652832, 17.165302276611328, 17.165254592895508, 17.165203094482422, 17.16522216796875, 17.165254592895508, 17.165271759033203, 17.16523551940918, 17.165225982666016, 17.165185928344727, 17.165184020996094, 17.165191650390625, 17.165252685546875, 17.165245056152344, 17.165180206298828, 17.165218353271484, 17.16522979736328, 17.165172576904297, 17.165117263793945, 17.16517448425293, 17.16513442993164, 17.165103912353516, 17.165205001831055, 17.16518211364746, 17.165142059326172, 17.165143966674805, 17.165178298950195, 17.165252685546875, 17.165151596069336, 17.165088653564453, 17.165111541748047, 17.165132522583008, 17.16507911682129, 17.165102005004883, 17.16512680053711, 17.165172576904297, 17.1651668548584, 17.165115356445312, 17.16507911682129, 17.16511344909668, 17.165170669555664, 17.165164947509766, 17.165172576904297, 17.165172576904297, 17.165115356445312, 17.165212631225586, 17.165124893188477, 17.165157318115234, 17.165172576904297, 17.16507339477539, 17.165090560913086, 17.165071487426758, 17.165096282958984, 17.165016174316406, 17.16510772705078, 17.16501235961914, 17.165061950683594, 17.165061950683594, 17.165132522583008, 17.165102005004883, 17.16512107849121, 17.165027618408203, 17.16504669189453, 17.1650390625, 17.165088653564453, 17.165016174316406, 17.165040969848633, 17.16510772705078, 17.165061950683594, 17.165081024169922, 17.165056228637695, 17.16497802734375, 17.165002822875977, 17.164993286132812, 17.165010452270508, 17.165023803710938, 17.164962768554688, 17.1650390625, 17.16499900817871, 17.164932250976562, 17.164953231811523, 17.1649169921875, 17.16504669189453, 17.16502571105957, 17.164958953857422, 17.1650390625, 17.164995193481445, 17.16494369506836, 17.164936065673828, 17.164886474609375, 17.164936065673828, 17.1649169921875, 17.164979934692383, 17.164989471435547, 17.165023803710938, 17.16494369506836, 17.164947509765625, 17.164813995361328, 17.16489601135254, 17.164920806884766, 17.164871215820312, 17.164939880371094, 17.1649112701416, 17.16490364074707, 17.164936065673828, 17.164905548095703, 17.16493034362793, 17.1649227142334, 17.164979934692383, 17.164905548095703, 17.164857864379883, 17.164833068847656, 17.164833068847656, 17.16490364074707, 17.164915084838867, 17.16495132446289, 17.16493034362793, 17.164905548095703, 17.164831161499023, 17.164865493774414, 17.164813995361328, 17.164772033691406, 17.16486167907715, 17.164793014526367, 17.164745330810547, 17.164806365966797, 17.16488265991211, 17.16482925415039, 17.16480255126953, 17.164813995361328, 17.16477394104004, 17.16476058959961, 17.164709091186523, 17.164688110351562, 17.164718627929688, 17.164697647094727, 17.16470718383789, 17.16476821899414, 17.164745330810547, 17.16472816467285, 17.164743423461914, 17.1646671295166, 17.164640426635742, 17.164581298828125, 17.16460418701172, 17.164628982543945, 17.16461181640625, 17.16463851928711, 17.164642333984375, 17.164655685424805, 17.164669036865234, 17.164655685424805, 17.164562225341797, 17.164531707763672, 17.164512634277344, 17.164459228515625, 17.164487838745117, 17.164560317993164, 17.164505004882812, 17.16450309753418, 17.16466522216797, 17.16453742980957, 17.164474487304688, 17.164470672607422, 17.164447784423828, 17.1644287109375, 17.16448211669922, 17.164506912231445, 17.164369583129883, 17.164396286010742, 17.164363861083984, 17.16440773010254, 17.16434669494629, 17.164365768432617, 17.164321899414062, 17.16433334350586, 17.164289474487305, 17.16435432434082, 17.16436004638672, 17.16434669494629, 17.16438865661621, 17.164270401000977, 17.164287567138672, 17.164283752441406, 17.16423988342285, 17.164262771606445, 17.16432762145996, 17.164281845092773, 17.16427230834961, 17.164216995239258, 17.16435432434082, 17.164247512817383, 17.16413116455078, 17.164104461669922, 17.164100646972656, 17.164100646972656, 17.16408348083496, 17.164222717285156, 17.164260864257812, 17.164138793945312, 17.164091110229492, 17.164196014404297, 17.164079666137695, 17.164087295532227, 17.164100646972656, 17.164173126220703, 17.164060592651367, 17.1640682220459, 17.16402244567871, 17.163963317871094, 17.164072036743164, 17.16399383544922, 17.164026260375977, 17.163972854614258, 17.163928985595703, 17.163864135742188, 17.16388702392578, 17.16393280029297, 17.163951873779297, 17.163902282714844, 17.16388511657715, 17.163867950439453, 17.163909912109375, 17.163902282714844, 17.163795471191406, 17.16383934020996, 17.163829803466797, 17.163837432861328, 17.16381072998047, 17.163745880126953, 17.163719177246094, 17.1636962890625, 17.163694381713867, 17.16372299194336, 17.163721084594727, 17.163745880126953, 17.16375732421875, 17.16374969482422, 17.163652420043945, 17.163700103759766, 17.16368865966797, 17.163616180419922, 17.16364288330078, 17.16364860534668, 17.16360092163086, 17.163654327392578, 17.163604736328125, 17.163646697998047, 17.163516998291016, 17.16343116760254, 17.16345977783203, 17.163421630859375, 17.163440704345703, 17.163375854492188, 17.163352966308594, 17.163362503051758, 17.16341781616211, 17.163372039794922, 17.163368225097656, 17.163341522216797, 17.163307189941406, 17.163284301757812, 17.163360595703125, 17.16326141357422, 17.163272857666016, 17.16329002380371, 17.16335105895996, 17.163272857666016, 17.163211822509766, 17.163223266601562, 17.163185119628906, 17.163185119628906, 17.16323471069336, 17.163209915161133, 17.16312026977539, 17.163124084472656, 17.16303825378418, 17.163053512573242, 17.163055419921875, 17.163076400756836, 17.163095474243164, 17.163108825683594, 17.16299819946289, 17.162994384765625, 17.163026809692383, 17.16301155090332, 17.163005828857422, 17.162839889526367, 17.162874221801758, 17.1629695892334, 17.162879943847656, 17.16286849975586, 17.162841796875, 17.16277313232422, 17.162790298461914, 17.16275405883789, 17.16279411315918, 17.162803649902344, 17.162761688232422, 17.1627254486084, 17.16274642944336, 17.162715911865234, 17.162633895874023, 17.1626033782959, 17.162630081176758, 17.162689208984375, 17.162578582763672, 17.162586212158203, 17.162546157836914, 17.16252899169922, 17.162456512451172, 17.162479400634766, 17.162450790405273, 17.162384033203125, 17.162437438964844, 17.162372589111328, 17.162452697753906, 17.162433624267578, 17.16238784790039, 17.162330627441406, 17.162416458129883, 17.16244125366211, 17.162395477294922, 17.162336349487305, 17.16229248046875, 17.16231346130371, 17.162220001220703, 17.162216186523438, 17.16216278076172, 17.162187576293945, 17.16216468811035, 17.16219139099121, 17.162179946899414, 17.162109375, 17.162090301513672, 17.162067413330078, 17.162033081054688, 17.16196060180664, 17.161922454833984, 17.161941528320312, 17.16192626953125, 17.161996841430664, 17.16196060180664, 17.162002563476562, 17.16202163696289, 17.16185760498047, 17.161800384521484, 17.16184425354004, 17.161861419677734, 17.16189193725586, 17.161802291870117, 17.161792755126953, 17.16180419921875, 17.16177749633789, 17.161800384521484, 17.16172981262207, 17.16170310974121, 17.161693572998047, 17.161636352539062, 17.161706924438477, 17.161638259887695, 17.161584854125977, 17.161548614501953, 17.16155433654785, 17.161527633666992, 17.161558151245117, 17.1616153717041, 17.161529541015625, 17.16154670715332, 17.16154670715332, 17.161418914794922, 17.16143226623535, 17.161428451538086, 17.161388397216797, 17.16134262084961, 17.161346435546875, 17.161327362060547, 17.16136932373047, 17.161300659179688, 17.161300659179688, 17.161346435546875, 17.16131019592285, 17.161300659179688, 17.161273956298828, 17.16123390197754, 17.16118621826172, 17.161178588867188, 17.1611385345459, 17.161142349243164, 17.1610107421875, 17.161117553710938, 17.161026000976562, 17.16107749938965, 17.161096572875977, 17.16103172302246, 17.16097068786621, 17.16104507446289, 17.160999298095703, 17.160991668701172, 17.160938262939453, 17.160961151123047, 17.160900115966797, 17.16087532043457, 17.160961151123047, 17.160860061645508, 17.160905838012695, 17.160816192626953, 17.16079330444336, 17.160816192626953, 17.16078758239746, 17.160825729370117, 17.160757064819336, 17.160703659057617, 17.1607666015625, 17.160724639892578, 17.160728454589844, 17.160642623901367, 17.160642623901367, 17.160633087158203, 17.16067886352539, 17.160690307617188, 17.16064453125, 17.16064453125, 17.16061782836914, 17.160606384277344, 17.160497665405273, 17.160533905029297, 17.160541534423828, 17.16050910949707, 17.16050910949707, 17.160457611083984, 17.160480499267578, 17.160457611083984, 17.160476684570312, 17.160497665405273, 17.160432815551758, 17.1603946685791, 17.16034698486328, 17.1603946685791, 17.160297393798828, 17.16029167175293, 17.160430908203125, 17.16036605834961, 17.160335540771484, 17.160301208496094, 17.160282135009766, 17.160274505615234, 17.160242080688477, 17.160253524780273, 17.16026496887207, 17.160194396972656, 17.160247802734375, 17.160301208496094, 17.160259246826172, 17.16015625, 17.160221099853516, 17.160228729248047, 17.160184860229492, 17.160093307495117, 17.160104751586914, 17.16014289855957, 17.160131454467773, 17.160043716430664, 17.1600284576416, 17.160110473632812, 17.160099029541016, 17.160133361816406, 17.160005569458008, 17.159992218017578, 17.16004753112793, 17.15993309020996, 17.159984588623047, 17.159961700439453, 17.159881591796875, 17.159944534301758, 17.159950256347656, 17.15997886657715, 17.15987777709961, 17.159889221191406, 17.159879684448242, 17.159862518310547, 17.159889221191406, 17.159866333007812, 17.159866333007812, 17.159847259521484, 17.159814834594727, 17.15983009338379, 17.159812927246094, 17.159832000732422, 17.159751892089844, 17.159828186035156, 17.1597957611084, 17.159727096557617, 17.159717559814453, 17.15970230102539, 17.159687042236328, 17.159685134887695, 17.159679412841797, 17.15970230102539, 17.15962028503418, 17.15970230102539, 17.159687042236328, 17.15970230102539, 17.159719467163086, 17.15966033935547, 17.159692764282227, 17.159626007080078, 17.159578323364258, 17.159597396850586, 17.15955352783203, 17.159513473510742, 17.159467697143555, 17.159549713134766, 17.159610748291016, 17.159576416015625, 17.159570693969727, 17.159536361694336, 17.159568786621094, 17.15960121154785, 17.15959930419922, 17.159557342529297, 17.159486770629883, 17.15949249267578, 17.15953826904297, 17.15945816040039, 17.159461975097656, 17.159395217895508, 17.159467697143555, 17.159460067749023, 17.159454345703125, 17.159385681152344, 17.15946388244629, 17.15947914123535, 17.1594181060791, 17.159517288208008, 17.15951919555664, 17.159442901611328, 17.159330368041992, 17.15937042236328, 17.159366607666016, 17.15947151184082, 17.1594181060791, 17.15937614440918, 17.159427642822266, 17.159400939941406, 17.15933609008789, 17.159305572509766, 17.159391403198242, 17.15937042236328, 17.15933609008789, 17.15930938720703, 17.159347534179688, 17.15939712524414, 17.159400939941406, 17.159379959106445, 17.159337997436523, 17.15930938720703, 17.159284591674805, 17.159343719482422, 17.159273147583008, 17.159320831298828, 17.15923500061035, 17.159317016601562, 17.159358978271484, 17.159320831298828, 17.159282684326172, 17.159231185913086, 17.159297943115234, 17.1593017578125, 17.159324645996094, 17.159317016601562, 17.159236907958984, 17.159198760986328, 17.159196853637695, 17.159217834472656, 17.159196853637695, 17.159170150756836, 17.159269332885742, 17.15924835205078, 17.15924072265625, 17.15924072265625, 17.159263610839844, 17.159313201904297, 17.159290313720703, 17.159257888793945, 17.159181594848633, 17.159168243408203, 17.159160614013672, 17.1591739654541, 17.159181594848633, 17.15924072265625, 17.159204483032227, 17.159242630004883, 17.159183502197266, 17.159164428710938, 17.159269332885742, 17.15918731689453, 17.159238815307617, 17.159204483032227, 17.159170150756836, 17.159242630004883, 17.159154891967773, 17.159137725830078, 17.159076690673828, 17.15912437438965, 17.159103393554688, 17.159099578857422, 17.15909767150879, 17.15908432006836, 17.15920639038086, 17.15911102294922, 17.15912437438965, 17.159183502197266, 17.159147262573242, 17.159143447875977, 17.159212112426758, 17.159257888793945, 17.159168243408203, 17.159128189086914, 17.15907859802246, 17.15908432006836, 17.159177780151367, 17.159196853637695, 17.159107208251953, 17.159133911132812, 17.15920066833496, 17.1591854095459, 17.159090042114258, 17.159072875976562, 17.159076690673828, 17.15917205810547, 17.159074783325195, 17.159040451049805, 17.159072875976562, 17.15908432006836, 17.159162521362305, 17.159120559692383, 17.159076690673828, 17.159069061279297, 17.159099578857422, 17.159090042114258, 17.159072875976562, 17.15907096862793, 17.15912628173828, 17.15904998779297, 17.159101486206055, 17.159072875976562, 17.159088134765625, 17.15911293029785, 17.15906524658203, 17.15902328491211, 17.159034729003906, 17.159040451049805, 17.159046173095703, 17.1590576171875, 17.159048080444336, 17.159101486206055, 17.15919303894043, 17.15915298461914, 17.159135818481445, 17.15915298461914, 17.1590576171875, 17.159074783325195, 17.15910530090332, 17.159133911132812, 17.159032821655273, 17.159015655517578, 17.159011840820312, 17.15900421142578, 17.158985137939453, 17.159093856811523, 17.15912437438965, 17.15911865234375, 17.158985137939453, 17.15900993347168, 17.159046173095703, 17.159000396728516, 17.159019470214844, 17.15900230407715, 17.15907859802246, 17.159076690673828, 17.15901756286621, 17.15909194946289, 17.159128189086914, 17.15904998779297, 17.159137725830078, 17.15904426574707, 17.159029006958008, 17.158966064453125, 17.158992767333984, 17.15894317626953, 17.158994674682617, 17.159019470214844, 17.159006118774414, 17.15899658203125, 17.15900230407715, 17.158954620361328, 17.158952713012695, 17.15902328491211, 17.15903091430664, 17.159019470214844, 17.15898323059082, 17.158979415893555, 17.15902328491211, 17.159038543701172, 17.15900421142578, 17.159019470214844, 17.15908432006836, 17.15900421142578, 17.159032821655273, 17.15901756286621, 17.15904998779297, 17.159055709838867, 17.159042358398438, 17.15906524658203, 17.158939361572266, 17.15902328491211, 17.158985137939453, 17.159046173095703, 17.15903091430664, 17.159038543701172, 17.158960342407227, 17.1589412689209, 17.158920288085938, 17.158950805664062, 17.159048080444336, 17.15909194946289, 17.15895652770996, 17.158992767333984, 17.159072875976562, 17.158952713012695, 17.159025192260742, 17.159088134765625, 17.159099578857422, 17.15908432006836, 17.15902328491211, 17.159008026123047, 17.158981323242188, 17.15900993347168, 17.159034729003906, 17.15899658203125, 17.159040451049805, 17.15899658203125, 17.15899658203125, 17.158994674682617, 17.159013748168945, 17.15894317626953, 17.15891456604004, 17.158924102783203, 17.159006118774414, 17.158979415893555, 17.159025192260742, 17.1590576171875, 17.15898895263672, 17.159011840820312, 17.159013748168945, 17.15896224975586, 17.158960342407227, 17.15898895263672, 17.158966064453125, 17.159027099609375, 17.158954620361328, 17.158946990966797, 17.15894317626953, 17.158958435058594, 17.15898895263672, 17.159000396728516, 17.15897560119629, 17.15910530090332, 17.158994674682617, 17.158977508544922, 17.159032821655273, 17.15902328491211, 17.15899658203125, 17.158977508544922, 17.158954620361328, 17.159032821655273, 17.159021377563477, 17.159019470214844, 17.159034729003906, 17.159027099609375, 17.158954620361328, 17.158973693847656, 17.158946990966797, 17.15896987915039, 17.158992767333984, 17.158979415893555, 17.15899658203125, 17.159042358398438, 17.159008026123047, 17.15899085998535, 17.158998489379883, 17.158971786499023, 17.158966064453125, 17.15894317626953, 17.158931732177734, 17.158998489379883, 17.158935546875, 17.159019470214844, 17.159025192260742, 17.158994674682617, 17.159027099609375, 17.159006118774414, 17.159013748168945, 17.15903091430664, 17.158977508544922, 17.158985137939453, 17.158971786499023, 17.159019470214844, 17.159029006958008, 17.158916473388672, 17.158933639526367, 17.158945083618164, 17.15896987915039, 17.158906936645508, 17.15894889831543, 17.158945083618164, 17.158987045288086, 17.15900421142578, 17.158960342407227, 17.15890884399414, 17.158899307250977, 17.15896987915039, 17.158958435058594, 17.158966064453125, 17.159029006958008, 17.15901756286621, 17.159025192260742, 17.158906936645508, 17.15890884399414, 17.158979415893555, 17.159021377563477, 17.15900421142578, 17.159011840820312, 17.159013748168945, 17.158973693847656, 17.158967971801758, 17.159038543701172, 17.15897560119629, 17.15896987915039, 17.15888023376465, 17.158931732177734, 17.158977508544922, 17.15896987915039, 17.158981323242188, 17.158971786499023, 17.159015655517578, 17.158952713012695, 17.15902328491211, 17.159029006958008, 17.158958435058594, 17.15899658203125, 17.15908432006836, 17.15899658203125, 17.158994674682617, 17.158998489379883, 17.15899658203125, 17.159000396728516, 17.15901756286621, 17.15896987915039, 17.158964157104492, 17.15887451171875, 17.158933639526367, 17.158870697021484, 17.158939361572266, 17.158960342407227, 17.15896224975586, 17.158994674682617, 17.15899658203125, 17.159029006958008, 17.158981323242188, 17.158952713012695, 17.158931732177734, 17.158992767333984, 17.15901756286621, 17.15898895263672, 17.158897399902344, 17.15888214111328, 17.158855438232422, 17.158931732177734, 17.158960342407227, 17.159015655517578, 17.158926010131836, 17.158945083618164, 17.158931732177734, 17.158924102783203, 17.158946990966797, 17.158920288085938, 17.158935546875, 17.15898895263672, 17.158979415893555, 17.15900421142578, 17.15894889831543, 17.158973693847656, 17.158992767333984, 17.15903091430664, 17.158987045288086, 17.158952713012695, 17.15894317626953, 17.15892219543457, 17.158960342407227, 17.158977508544922, 17.158889770507812, 17.158916473388672, 17.158870697021484, 17.158992767333984, 17.158964157104492, 17.158985137939453, 17.158971786499023, 17.158973693847656, 17.15899658203125, 17.158981323242188, 17.158918380737305, 17.159013748168945, 17.158985137939453, 17.15900993347168, 17.158966064453125, 17.158946990966797, 17.159069061279297, 17.15894889831543, 17.15899658203125, 17.15896987915039, 17.15898895263672, 17.158945083618164, 17.158889770507812, 17.158910751342773, 17.158918380737305, 17.158893585205078, 17.15895652770996, 17.158985137939453, 17.158979415893555, 17.15894889831543, 17.158910751342773, 17.15890121459961, 17.158920288085938, 17.158954620361328, 17.158889770507812, 17.158981323242188, 17.159006118774414, 17.159019470214844, 17.15900421142578, 17.15907096862793, 17.159053802490234, 17.15907096862793, 17.15896224975586, 17.15890121459961, 17.15895652770996, 17.158918380737305, 17.158945083618164, 17.158966064453125, 17.158985137939453, 17.158967971801758, 17.1589412689209, 17.15896987915039, 17.15896987915039, 17.15894889831543, 17.15890121459961, 17.158935546875, 17.158954620361328, 17.158939361572266, 17.158973693847656, 17.1589412689209, 17.158971786499023, 17.15909194946289, 17.158906936645508, 17.158967971801758, 17.158977508544922, 17.158924102783203, 17.15897560119629, 17.158998489379883, 17.15896987915039, 17.158981323242188, 17.15899085998535, 17.158933639526367, 17.158939361572266, 17.158924102783203, 17.158960342407227, 17.158971786499023, 17.15889549255371, 17.15900230407715, 17.159015655517578, 17.159015655517578, 17.159006118774414, 17.159027099609375, 17.15894317626953, 17.158931732177734, 17.158912658691406, 17.158931732177734, 17.158998489379883, 17.158967971801758, 17.158933639526367, 17.15894889831543, 17.159015655517578, 17.15896987915039, 17.158891677856445, 17.158981323242188, 17.158958435058594, 17.158966064453125, 17.158912658691406, 17.158920288085938, 17.158916473388672, 17.158946990966797, 17.158946990966797, 17.15892219543457, 17.158931732177734, 17.158967971801758, 17.159008026123047, 17.158973693847656, 17.159053802490234, 17.158992767333984, 17.158987045288086, 17.15896987915039, 17.15898895263672, 17.15894889831543, 17.15898895263672, 17.158958435058594, 17.159015655517578, 17.158977508544922, 17.158910751342773, 17.158950805664062, 17.15894317626953, 17.158912658691406, 17.158958435058594, 17.158935546875, 17.158998489379883, 17.15894889831543, 17.158937454223633, 17.158985137939453, 17.1589412689209, 17.158973693847656, 17.15896987915039, 17.158987045288086, 17.158998489379883, 17.159072875976562, 17.159025192260742, 17.158935546875, 17.158964157104492, 17.158964157104492, 17.158950805664062, 17.158954620361328, 17.15899085998535, 17.15899658203125, 17.15896987915039, 17.159000396728516, 17.159011840820312, 17.158981323242188, 17.158946990966797, 17.158910751342773, 17.15897560119629, 17.158912658691406, 17.15889549255371, 17.158910751342773, 17.158935546875, 17.158985137939453, 17.15898895263672, 17.158981323242188, 17.158977508544922, 17.15896987915039, 17.159046173095703, 17.158977508544922, 17.158893585205078, 17.158945083618164, 17.15899085998535, 17.158981323242188, 17.15895652770996, 17.159032821655273, 17.159076690673828, 17.158964157104492, 17.158958435058594, 17.15900230407715, 17.158958435058594, 17.158893585205078, 17.158998489379883, 17.15899658203125, 17.1589298248291, 17.158958435058594, 17.15896224975586, 17.15892791748047, 17.158935546875, 17.158859252929688]\n"
          ]
        }
      ]
    },
    {
      "cell_type": "code",
      "metadata": {
        "colab": {
          "base_uri": "https://localhost:8080/",
          "height": 410
        },
        "id": "hsNO9nnXQBvP",
        "outputId": "ecfb7806-a51a-407d-c2de-b2281fe4af14"
      },
      "source": [
        "plot_learning_curve(model_loss_record, title='deep model')"
      ],
      "execution_count": 43,
      "outputs": [
        {
          "output_type": "display_data",
          "data": {
            "text/plain": [
              "<Figure size 600x400 with 1 Axes>"
            ],
            "image/png": "[encoded data removed]"
          },
          "metadata": {}
        }
      ]
    },
    {
      "cell_type": "code",
      "metadata": {
        "colab": {
          "base_uri": "https://localhost:8080/",
          "height": 487
        },
        "id": "3iZTVn5WQFpX",
        "outputId": "83e4281d-4e15-4c37-d3a3-0b5b85385301"
      },
      "source": [
        "del model\n",
        "model = NeuralNet(tr_set.dataset.dim).to(device)\n",
        "ckpt = torch.load(config['save_path'], map_location='cpu')  # Load your best model\n",
        "model.load_state_dict(ckpt)\n",
        "plot_pred(dv_set, model, device)  # Show prediction on the validation set"
      ],
      "execution_count": 44,
      "outputs": [
        {
          "output_type": "display_data",
          "data": {
            "text/plain": [
              "<Figure size 500x500 with 1 Axes>"
            ],
            "image/png": "[encoded data removed]"
          },
          "metadata": {}
        }
      ]
    },
    {
      "cell_type": "markdown",
      "metadata": {
        "id": "aQikz3IPiyPf"
      },
      "source": [
        "# **Testing**\n",
        "The predictions of your model on testing set will be stored at `pred.csv`."
      ]
    },
    {
      "cell_type": "code",
      "metadata": {
        "colab": {
          "base_uri": "https://localhost:8080/"
        },
        "id": "O8cTuQjQQOon",
        "outputId": "213f1c78-d5a1-4a72-b110-b9e5421d3c6f"
      },
      "source": [
        "def save_pred(preds, file):\n",
        "    ''' Save predictions to specified file '''\n",
        "    print('Saving results to {}'.format(file))\n",
        "    with open(file, 'w') as fp:\n",
        "        writer = csv.writer(fp)\n",
        "        writer.writerow(['id', 'tested_positive'])\n",
        "        for i, p in enumerate(preds):\n",
        "            writer.writerow([i, p])\n",
        "\n",
        "preds = test(tt_set, model, device)  # predict COVID-19 cases with your model\n",
        "save_pred(preds, 'pred.csv')         # save prediction file to pred.csv"
      ],
      "execution_count": 45,
      "outputs": [
        {
          "output_type": "stream",
          "name": "stdout",
          "text": [
            "Saving results to pred.csv\n"
          ]
        }
      ]
    },
    {
      "cell_type": "markdown",
      "metadata": {
        "id": "nfrVxqJanGpE"
      },
      "source": [
        "# **Hints**\n",
        "\n",
        "## **Simple Baseline**\n",
        "* Run sample code\n",
        "\n",
        "## **Medium Baseline**\n",
        "* Feature selection: 40 states + 2 `tested_positive` (`TODO` in dataset)\n",
        "\n",
        "## **Strong Baseline**\n",
        "* Feature selection (what other features are useful?)\n",
        "* DNN architecture (layers? dimension? activation function?)\n",
        "* Training (mini-batch? optimizer? learning rate?)\n",
        "* L2 regularization\n",
        "* There are some mistakes in the sample code, can you find them?"
      ]
    },
    {
      "cell_type": "markdown",
      "metadata": {
        "id": "9tmCwXgpot3t"
      },
      "source": [
        "# **Reference**\n",
        "This code is completely written by Heng-Jui Chang @ NTUEE.  \n",
        "Copying or reusing this code is required to specify the original author.\n",
        "\n",
        "E.g.  \n",
        "Source: Heng-Jui Chang @ NTUEE (https://github.com/ga642381/ML2021-Spring/blob/main/HW01/HW01.ipynb)\n"
      ]
    }
  ]
}